{
 "cells": [
  {
   "cell_type": "code",
   "execution_count": 0,
   "metadata": {
    "application/vnd.databricks.v1+cell": {
     "cellMetadata": {
      "byteLimit": 2048000,
      "rowLimit": 10000
     },
     "inputWidgets": {},
     "nuid": "6b15bf18-6d55-4664-879d-c0cb24e349b3",
     "showTitle": false,
     "tableResultSettingsMap": {},
     "title": ""
    }
   },
   "outputs": [],
   "source": [
    "sock_data=[{'Size': 'Medium', 'Color': 'Black', 'Pattern': 'Solid', 'Material': 'Cotton', 'Condition': 'New', 'ForFoot': 'Right'}, {'Size': 'Small', 'Color': 'Multicolor', 'Pattern': 'Argyle', 'Material': 'Bamboo', 'Condition': 'New', 'ForFoot': 'Right'}, {'Size': 'Medium', 'Color': 'Yellow', 'Pattern': 'Graphic', 'Material': 'Cotton', 'Condition': 'Refurbished', 'ForFoot': 'Right'}, {'Size': 'Medium', 'Color': 'Purple', 'Pattern': 'Solid', 'Material': 'Cotton', 'Condition': 'Refurbished', 'ForFoot': 'Left'}, {'Size': 'Extra Large', 'Color': 'Green', 'Pattern': 'Argyle', 'Material': 'Bamboo', 'Condition': 'Refurbished', 'ForFoot': 'Right'}]"
   ]
  },
  {
   "cell_type": "code",
   "execution_count": 0,
   "metadata": {
    "application/vnd.databricks.v1+cell": {
     "cellMetadata": {
      "byteLimit": 2048000,
      "rowLimit": 10000
     },
     "inputWidgets": {},
     "nuid": "6d078c6f-c689-4232-8192-746d25d6511e",
     "showTitle": false,
     "tableResultSettingsMap": {},
     "title": ""
    }
   },
   "outputs": [],
   "source": [
    "# Write the data to a JSON file\n",
    "# This assumes the data is in a variable named sock_data\n",
    "import json\n",
    "socksnum = \"socks214628_INS1\"\n",
    "with open(f'/dbfs/Workspace/Users/214627-s03@labs.webagesolutions.com/sock_data{socksnum}.json', 'w') as file:\n",
    "    json.dump(sock_data, file)"
   ]
  },
  {
   "cell_type": "code",
   "execution_count": 0,
   "metadata": {
    "application/vnd.databricks.v1+cell": {
     "cellMetadata": {
      "byteLimit": 2048000,
      "rowLimit": 10000
     },
     "inputWidgets": {},
     "nuid": "64612c4c-cc87-4411-90fa-2ea2eb14f2ef",
     "showTitle": false,
     "tableResultSettingsMap": {},
     "title": ""
    }
   },
   "outputs": [
    {
     "output_type": "display_data",
     "data": {
      "text/html": [
       "<style scoped>\n",
       "  .table-result-container {\n",
       "    max-height: 300px;\n",
       "    overflow: auto;\n",
       "  }\n",
       "  table, th, td {\n",
       "    border: 1px solid black;\n",
       "    border-collapse: collapse;\n",
       "  }\n",
       "  th, td {\n",
       "    padding: 5px;\n",
       "  }\n",
       "  th {\n",
       "    text-align: left;\n",
       "  }\n",
       "</style><div class='table-result-container'><table class='table-result'><thead style='background-color: white'><tr><th>path</th><th>name</th><th>size</th><th>modificationTime</th></tr></thead><tbody><tr><td>dbfs:/Workspace/Users/214627-s03@labs.webagesolutions.com/</td><td>214627-s03@labs.webagesolutions.com/</td><td>0</td><td>1751578242275</td></tr><tr><td>dbfs:/Workspace/Users/instructor@labs.webagesolutions.com/</td><td>instructor@labs.webagesolutions.com/</td><td>0</td><td>1751578242275</td></tr></tbody></table></div>"
      ]
     },
     "metadata": {
      "application/vnd.databricks.v1+output": {
       "addedWidgets": {},
       "aggData": [],
       "aggError": "",
       "aggOverflow": false,
       "aggSchema": [],
       "aggSeriesLimitReached": false,
       "aggType": "",
       "arguments": {},
       "columnCustomDisplayInfos": {},
       "data": [
        [
         "dbfs:/Workspace/Users/214627-s03@labs.webagesolutions.com/",
         "214627-s03@labs.webagesolutions.com/",
         0,
         1751578242275
        ],
        [
         "dbfs:/Workspace/Users/instructor@labs.webagesolutions.com/",
         "instructor@labs.webagesolutions.com/",
         0,
         1751578242275
        ]
       ],
       "datasetInfos": [],
       "dbfsResultPath": null,
       "isJsonSchema": true,
       "metadata": {
        "isDbfsCommandResult": false
       },
       "overflow": false,
       "plotOptions": {
        "customPlotOptions": {},
        "displayType": "table",
        "pivotAggregation": null,
        "pivotColumns": null,
        "xColumns": null,
        "yColumns": null
       },
       "removedWidgets": [],
       "schema": [
        {
         "metadata": "{}",
         "name": "path",
         "type": "\"string\""
        },
        {
         "metadata": "{}",
         "name": "name",
         "type": "\"string\""
        },
        {
         "metadata": "{}",
         "name": "size",
         "type": "\"long\""
        },
        {
         "metadata": "{}",
         "name": "modificationTime",
         "type": "\"long\""
        }
       ],
       "type": "table"
      }
     },
     "output_type": "display_data"
    }
   ],
   "source": [
    "%fs ls /Workspace/Users"
   ]
  },
  {
   "cell_type": "code",
   "execution_count": 0,
   "metadata": {
    "application/vnd.databricks.v1+cell": {
     "cellMetadata": {
      "byteLimit": 2048000,
      "rowLimit": 10000
     },
     "inputWidgets": {},
     "nuid": "c45672c1-b414-46a8-90e2-2667ec0d4a15",
     "showTitle": false,
     "tableResultSettingsMap": {},
     "title": ""
    }
   },
   "outputs": [
    {
     "output_type": "execute_result",
     "data": {
      "text/plain": [
       "True"
      ]
     },
     "execution_count": 32,
     "metadata": {},
     "output_type": "execute_result"
    }
   ],
   "source": [
    "dbutils.fs.cp(f\"sock_data{socksnum}.json\", f\"dbfs:/sock_data{socksnum}.json\")"
   ]
  }
 ],
 "metadata": {
  "application/vnd.databricks.v1+notebook": {
   "computePreferences": null,
   "dashboards": [],
   "environmentMetadata": {
    "base_environment": "",
    "environment_version": "2"
   },
   "inputWidgetPreferences": null,
   "language": "python",
   "notebookMetadata": {
    "mostRecentlyExecutedCommandWithImplicitDF": {
     "commandId": 8572921876441265,
     "dataframes": [
      "_sqldf"
     ]
    },
    "pythonIndentUnit": 4
   },
   "notebookName": "Lab 2.2",
   "widgets": {}
  },
  "language_info": {
   "name": "python"
  }
 },
 "nbformat": 4,
 "nbformat_minor": 0
}